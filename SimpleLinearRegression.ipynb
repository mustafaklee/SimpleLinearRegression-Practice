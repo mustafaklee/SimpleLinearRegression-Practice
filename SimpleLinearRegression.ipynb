{
 "cells": [
  {
   "cell_type": "code",
   "execution_count": 115,
   "id": "b4025af2-73cd-49a5-883c-daf27842caf1",
   "metadata": {},
   "outputs": [],
   "source": [
    "import pandas as pd"
   ]
  },
  {
   "cell_type": "code",
   "execution_count": 116,
   "id": "2a2298db-6809-4224-acc8-55232c822b92",
   "metadata": {},
   "outputs": [],
   "source": [
    "df=pd.read_csv(\"salary_prediction_data.csv\")"
   ]
  },
  {
   "cell_type": "code",
   "execution_count": 117,
   "id": "dcc0d138-3a82-437f-9dec-8d36357ad1d6",
   "metadata": {},
   "outputs": [
    {
     "name": "stdout",
     "output_type": "stream",
     "text": [
      "<class 'pandas.core.frame.DataFrame'>\n",
      "RangeIndex: 1000 entries, 0 to 999\n",
      "Data columns (total 7 columns):\n",
      " #   Column      Non-Null Count  Dtype  \n",
      "---  ------      --------------  -----  \n",
      " 0   Education   1000 non-null   object \n",
      " 1   Experience  1000 non-null   int64  \n",
      " 2   Location    1000 non-null   object \n",
      " 3   Job_Title   1000 non-null   object \n",
      " 4   Age         1000 non-null   int64  \n",
      " 5   Gender      1000 non-null   object \n",
      " 6   Salary      1000 non-null   float64\n",
      "dtypes: float64(1), int64(2), object(4)\n",
      "memory usage: 54.8+ KB\n"
     ]
    }
   ],
   "source": [
    "df.info()"
   ]
  },
  {
   "cell_type": "code",
   "execution_count": 118,
   "id": "407af646-5431-4164-afb9-afe815989056",
   "metadata": {},
   "outputs": [],
   "source": [
    "df2=pd.DataFrame()\n",
    "df2[\"Experience\"]=df.Experience\n",
    "df2[\"Age\"]=df.Age\n",
    "df2[\"Salary\"]=df.Salary"
   ]
  },
  {
   "cell_type": "code",
   "execution_count": 119,
   "id": "1e57b28c-f5c3-407e-a35a-d85fce87824d",
   "metadata": {
    "scrolled": true
   },
   "outputs": [
    {
     "data": {
      "text/html": [
       "<div>\n",
       "<style scoped>\n",
       "    .dataframe tbody tr th:only-of-type {\n",
       "        vertical-align: middle;\n",
       "    }\n",
       "\n",
       "    .dataframe tbody tr th {\n",
       "        vertical-align: top;\n",
       "    }\n",
       "\n",
       "    .dataframe thead th {\n",
       "        text-align: right;\n",
       "    }\n",
       "</style>\n",
       "<table border=\"1\" class=\"dataframe\">\n",
       "  <thead>\n",
       "    <tr style=\"text-align: right;\">\n",
       "      <th></th>\n",
       "      <th>Experience</th>\n",
       "      <th>Age</th>\n",
       "      <th>Salary</th>\n",
       "    </tr>\n",
       "  </thead>\n",
       "  <tbody>\n",
       "    <tr>\n",
       "      <th>0</th>\n",
       "      <td>8</td>\n",
       "      <td>63</td>\n",
       "      <td>84620.053665</td>\n",
       "    </tr>\n",
       "    <tr>\n",
       "      <th>1</th>\n",
       "      <td>11</td>\n",
       "      <td>59</td>\n",
       "      <td>142591.255894</td>\n",
       "    </tr>\n",
       "    <tr>\n",
       "      <th>2</th>\n",
       "      <td>28</td>\n",
       "      <td>61</td>\n",
       "      <td>97800.255404</td>\n",
       "    </tr>\n",
       "    <tr>\n",
       "      <th>3</th>\n",
       "      <td>29</td>\n",
       "      <td>45</td>\n",
       "      <td>96834.671282</td>\n",
       "    </tr>\n",
       "    <tr>\n",
       "      <th>4</th>\n",
       "      <td>25</td>\n",
       "      <td>26</td>\n",
       "      <td>132157.786175</td>\n",
       "    </tr>\n",
       "  </tbody>\n",
       "</table>\n",
       "</div>"
      ],
      "text/plain": [
       "   Experience  Age         Salary\n",
       "0           8   63   84620.053665\n",
       "1          11   59  142591.255894\n",
       "2          28   61   97800.255404\n",
       "3          29   45   96834.671282\n",
       "4          25   26  132157.786175"
      ]
     },
     "execution_count": 119,
     "metadata": {},
     "output_type": "execute_result"
    }
   ],
   "source": [
    "df2.head()"
   ]
  },
  {
   "cell_type": "code",
   "execution_count": null,
   "id": "bc4d66a9-f467-4cfc-bb25-0715ef657e01",
   "metadata": {},
   "outputs": [],
   "source": [
    "df2.describe().T"
   ]
  },
  {
   "cell_type": "code",
   "execution_count": 121,
   "id": "18ea898d-f7fe-4171-bd57-3c0544dcfc4c",
   "metadata": {},
   "outputs": [
    {
     "data": {
      "text/plain": [
       "False"
      ]
     },
     "execution_count": 121,
     "metadata": {},
     "output_type": "execute_result"
    }
   ],
   "source": [
    "df2.isnull().values.any()"
   ]
  },
  {
   "cell_type": "code",
   "execution_count": 122,
   "id": "724e595d-2f59-4f22-881b-b019761dfa0a",
   "metadata": {},
   "outputs": [
    {
     "data": {
      "text/html": [
       "<div>\n",
       "<style scoped>\n",
       "    .dataframe tbody tr th:only-of-type {\n",
       "        vertical-align: middle;\n",
       "    }\n",
       "\n",
       "    .dataframe tbody tr th {\n",
       "        vertical-align: top;\n",
       "    }\n",
       "\n",
       "    .dataframe thead th {\n",
       "        text-align: right;\n",
       "    }\n",
       "</style>\n",
       "<table border=\"1\" class=\"dataframe\">\n",
       "  <thead>\n",
       "    <tr style=\"text-align: right;\">\n",
       "      <th></th>\n",
       "      <th>Experience</th>\n",
       "      <th>Age</th>\n",
       "      <th>Salary</th>\n",
       "    </tr>\n",
       "  </thead>\n",
       "  <tbody>\n",
       "    <tr>\n",
       "      <th>Experience</th>\n",
       "      <td>1.000000</td>\n",
       "      <td>0.044296</td>\n",
       "      <td>0.341918</td>\n",
       "    </tr>\n",
       "    <tr>\n",
       "      <th>Age</th>\n",
       "      <td>0.044296</td>\n",
       "      <td>1.000000</td>\n",
       "      <td>-0.053174</td>\n",
       "    </tr>\n",
       "    <tr>\n",
       "      <th>Salary</th>\n",
       "      <td>0.341918</td>\n",
       "      <td>-0.053174</td>\n",
       "      <td>1.000000</td>\n",
       "    </tr>\n",
       "  </tbody>\n",
       "</table>\n",
       "</div>"
      ],
      "text/plain": [
       "            Experience       Age    Salary\n",
       "Experience    1.000000  0.044296  0.341918\n",
       "Age           0.044296  1.000000 -0.053174\n",
       "Salary        0.341918 -0.053174  1.000000"
      ]
     },
     "execution_count": 122,
     "metadata": {},
     "output_type": "execute_result"
    }
   ],
   "source": [
    "df2.corr() "
   ]
  },
  {
   "cell_type": "code",
   "execution_count": null,
   "id": "b9364d34-f0a8-4187-aeef-959fb12a0580",
   "metadata": {},
   "outputs": [],
   "source": [
    "import seaborn as sm\n",
    "import matplotlib.pyplot as plt\n",
    "sns.pairplot(df2,kind=\"reg\");"
   ]
  },
  {
   "cell_type": "code",
   "execution_count": 124,
   "id": "a08a5944-eb5f-4434-a8fb-673b4ed20b16",
   "metadata": {},
   "outputs": [],
   "source": [
    "import statsmodels.api as sm"
   ]
  },
  {
   "cell_type": "code",
   "execution_count": 125,
   "id": "27d148fc-0eda-4737-8c36-a1c60827b688",
   "metadata": {},
   "outputs": [],
   "source": [
    "X=df2[\"Experience\"]"
   ]
  },
  {
   "cell_type": "code",
   "execution_count": 126,
   "id": "484a208a-5cd0-4e8a-a15d-c6bcf19370e5",
   "metadata": {},
   "outputs": [],
   "source": [
    "y=df2[\"Salary\"]"
   ]
  },
  {
   "cell_type": "code",
   "execution_count": 127,
   "id": "9240bc98-6683-42fa-bf65-ad4b45da8310",
   "metadata": {},
   "outputs": [],
   "source": [
    "X=sm.add_constant(X)"
   ]
  },
  {
   "cell_type": "code",
   "execution_count": 128,
   "id": "f79d458d-1be1-428b-b23c-9480e23dadb7",
   "metadata": {},
   "outputs": [],
   "source": [
    "lm=sm.OLS(y,X)"
   ]
  },
  {
   "cell_type": "code",
   "execution_count": 129,
   "id": "35b74327-7631-4511-ab48-8396a2b87b96",
   "metadata": {},
   "outputs": [],
   "source": [
    "model=lm.fit()"
   ]
  },
  {
   "cell_type": "code",
   "execution_count": null,
   "id": "d50dce9d-c75b-450e-9331-1e5936094b3c",
   "metadata": {},
   "outputs": [],
   "source": [
    "model.summary()\n",
    "\"\"\"Düzeltilmiş R^2:Bağımlı değişkenimizdeki değişikliğin %11.6'sini açıkladığını görüyoruz.\n",
    "\n",
    "   F-statistic:Bağımsız değişkenlerden en az birinin bağımlı değişken üzerinde anlamlı bir etkiye sahip olup olmadığını belirler.\n",
    "   Prob (F-statistic):F-statistic değerinin anlamlılığını belirler.Genellikle 0.05 veya 0.01 den daha küçükse anlamlı olduğu kabul edilir.\n",
    "   %0.0000000000000000000000000000836'lık olasılıkla sıfır hipotezi doğrudur.Bu durumda F-statistic anlamlıdır ve sıfır hipotezi reddedilir.\n",
    "   Yani modelde en az 1 değişken bağımlı değişkeni açıklamada anlamlı bir etkiye sahiptir.\n",
    "   \n",
    "   Sabitin coef(katsayi) değeri :88,450 yani eğrinin y eksenini kestiği noktadır.Ortalama ücrettir.\n",
    "   Experience coef(katsayi) değeri:Bağımsız değişkendeki 1 birimlik artış bağımlı değişkendeki 1158.3068 birimlik artışa denktir.\n",
    "\n",
    "   P>|t|:Experience için 0.0 olan p değeri,Experience değişkeninin bağımlı değişken üzerindeki hiçbir etkisinin olmaması ihtimali %0.0 dır.\n",
    "   Ve sonuçlarımız %0.0 ihtimalle şans eseri üretilecektir.\n",
    "\n",
    "   [0.025   0.975] :Experience için (960.558 1356.056) Bu değerler dışında kalan değerler genellikle aykırı değerler kabul edilebilir.\n",
    "\"\"\""
   ]
  },
  {
   "cell_type": "code",
   "execution_count": 131,
   "id": "b94674e5-16ee-4c65-b558-3128f7b2c89a",
   "metadata": {},
   "outputs": [],
   "source": [
    "#Denklemi oluşturalım"
   ]
  },
  {
   "cell_type": "code",
   "execution_count": 149,
   "id": "95803d12-8e03-44fa-a643-0faac7b2184b",
   "metadata": {},
   "outputs": [
    {
     "name": "stdout",
     "output_type": "stream",
     "text": [
      "Salary = 88449.05 + Exp * 1158.31\n"
     ]
    }
   ],
   "source": [
    "print(\"Salary = \" +  str(\"%.2f\" % model.params.const) + \" + Exp \" + \"*\" + str(\" %.2f\" % model.params.Experience))"
   ]
  },
  {
   "cell_type": "code",
   "execution_count": 169,
   "id": "588ea91b-bc9a-44ff-bab4-4ace6301edd2",
   "metadata": {},
   "outputs": [
    {
     "data": {
      "image/png": "[encoded data removed]",
      "text/plain": [
       "<Figure size 640x480 with 1 Axes>"
      ]
     },
     "metadata": {},
     "output_type": "display_data"
    }
   ],
   "source": [
    "#eğer grafiksel olarak ifade etmek istersek....\n",
    "g = sns.regplot(x=df2[\"Experience\"], y=df2[\"Salary\"], ci=None, scatter_kws={'color':'r', 's':9})\n",
    "g.set_title(\"Model Denklemi: Salary = 88449.05 + Exp * 1158.31\")\n",
    "g.set_ylabel(\"Ücret\")\n",
    "g.set_xlabel(\"Deneyim\")\n",
    "plt.xlim(0,30);"
   ]
  },
  {
   "cell_type": "raw",
   "id": "95e26210-471f-4046-ae91-57ee318f1a95",
   "metadata": {},
   "source": [
    "Tahmin"
   ]
  },
  {
   "cell_type": "markdown",
   "id": "3c3d2922-f430-4e0f-bbb9-b83bb12fb15d",
   "metadata": {},
   "source": [
    "Model denklemi:\n",
    "\n",
    "Salary = 88449.05 + Exp * 1158.31\n",
    "\n",
    "Örneğin 15 yıl deneyimi olan birisinin maaşı tahmini ne kadar olur?"
   ]
  },
  {
   "cell_type": "code",
   "execution_count": 170,
   "id": "6886af99-3391-4fb6-9965-11a39c307f3d",
   "metadata": {},
   "outputs": [
    {
     "data": {
      "text/plain": [
       "105823.7"
      ]
     },
     "execution_count": 170,
     "metadata": {},
     "output_type": "execute_result"
    }
   ],
   "source": [
    "88449.05 + 15 * 1158.31"
   ]
  },
  {
   "cell_type": "code",
   "execution_count": 171,
   "id": "dede2696-4c1b-4c14-9546-3eb47fc536d9",
   "metadata": {},
   "outputs": [],
   "source": [
    "from sklearn.linear_model import LinearRegression"
   ]
  },
  {
   "cell_type": "code",
   "execution_count": null,
   "id": "f40f2af3-091a-49b0-95c0-b5f75d74adb5",
   "metadata": {},
   "outputs": [],
   "source": [
    "X=df2[[\"Experience\"]] #bağımsız değişken"
   ]
  },
  {
   "cell_type": "code",
   "execution_count": null,
   "id": "6c65daa5-4f49-4884-8974-d4a38f1aae58",
   "metadata": {},
   "outputs": [],
   "source": [
    "y=df2[[\"Salary\"]] #bağımlı değişken"
   ]
  },
  {
   "cell_type": "code",
   "execution_count": 181,
   "id": "0768cee6-fac6-451d-93e9-79f83729b0d4",
   "metadata": {},
   "outputs": [],
   "source": [
    "reg=LinearRegression() #nesne oluşturduk"
   ]
  },
  {
   "cell_type": "code",
   "execution_count": 182,
   "id": "3da3cdeb-7920-40f0-82f5-77b37660e3c2",
   "metadata": {},
   "outputs": [],
   "source": [
    "model=reg.fit(X,y) "
   ]
  },
  {
   "cell_type": "code",
   "execution_count": 188,
   "id": "1e3cb554-d755-4428-82b3-997c2d0846af",
   "metadata": {},
   "outputs": [
    {
     "data": {
      "text/plain": [
       "0.11690788221093384"
      ]
     },
     "execution_count": 188,
     "metadata": {},
     "output_type": "execute_result"
    }
   ],
   "source": [
    "model.score(X,y) #r^2 değeridir"
   ]
  },
  {
   "cell_type": "code",
   "execution_count": null,
   "id": "e07d3aa7-7eb2-440d-a25d-dcf0dcdc1183",
   "metadata": {},
   "outputs": [],
   "source": [
    "model.predict(X)[0:10] #tahmin değerleri"
   ]
  },
  {
   "cell_type": "code",
   "execution_count": null,
   "id": "24889893-9eae-4da9-844a-fa2c21a0cd87",
   "metadata": {},
   "outputs": [],
   "source": [
    "y[0:10] #tahmin değerlerinin gerçek değerlerle karşılaştırılması"
   ]
  },
  {
   "cell_type": "code",
   "execution_count": 189,
   "id": "3e2109da-93a8-4f63-a4e5-6e3343c85242",
   "metadata": {},
   "outputs": [],
   "source": [
    "#15 yıl deneyimi olan birisinin maaşı ne olur ?"
   ]
  },
  {
   "cell_type": "code",
   "execution_count": null,
   "id": "180dda52-a801-403f-a969-4ee40a2663ef",
   "metadata": {},
   "outputs": [],
   "source": [
    "maas = model.predict([[15]])[0][0]"
   ]
  },
  {
   "cell_type": "code",
   "execution_count": 230,
   "id": "ba125261-2945-4c45-b3f9-eca5bb6f73ba",
   "metadata": {},
   "outputs": [
    {
     "name": "stdout",
     "output_type": "stream",
     "text": [
      "15 yıl deneyimi olan birisinin maaşı : 105823.66\n"
     ]
    }
   ],
   "source": [
    "print(\"15 yıl deneyimi olan birisinin maaşı : \"+str(\"%.2f\" % maas))"
   ]
  },
  {
   "cell_type": "code",
   "execution_count": null,
   "id": "f40f87e1-8c6e-4d66-9c56-3efa3f62a7e3",
   "metadata": {},
   "outputs": [],
   "source": [
    "maas2 = model.predict([[16]])[0][0] - model.predict([[15]])[0][0]"
   ]
  },
  {
   "cell_type": "code",
   "execution_count": 232,
   "id": "89631338-dbe3-4550-9d5a-2d6baa366065",
   "metadata": {},
   "outputs": [
    {
     "name": "stdout",
     "output_type": "stream",
     "text": [
      "15 yıl deneyimi olan birisi 1 yıl daha çalışırsa maaş artışı ne kadar olur : 1158.31\n"
     ]
    }
   ],
   "source": [
    "#experience değişkenindeki 1 birimlik artış salarydeki 1158.31 birimlik artışa denk olur.\n",
    "print(\"15 yıl deneyimi olan birisi 1 yıl daha çalışırsa maaş artışı ne kadar olur : \"+str(\"%.2f\" % maas2))"
   ]
  },
  {
   "cell_type": "code",
   "execution_count": null,
   "id": "a9801bf9-5155-45c1-a5d6-d99ac5addbea",
   "metadata": {},
   "outputs": [],
   "source": []
  },
  {
   "cell_type": "code",
   "execution_count": null,
   "id": "531886e6-f46d-43bc-ac15-ceb9ea430e2e",
   "metadata": {},
   "outputs": [],
   "source": []
  },
  {
   "cell_type": "code",
   "execution_count": null,
   "id": "c69aa6d0-c5e7-43ca-b4ef-79f37b5ad09c",
   "metadata": {},
   "outputs": [],
   "source": []
  },
  {
   "cell_type": "code",
   "execution_count": null,
   "id": "00219aa0-9ed3-4715-813e-9ef926341095",
   "metadata": {},
   "outputs": [],
   "source": []
  }
 ],
 "metadata": {
  "kernelspec": {
   "display_name": "Python 3 (ipykernel)",
   "language": "python",
   "name": "python3"
  },
  "language_info": {
   "codemirror_mode": {
    "name": "ipython",
    "version": 3
   },
   "file_extension": ".py",
   "mimetype": "text/x-python",
   "name": "python",
   "nbconvert_exporter": "python",
   "pygments_lexer": "ipython3",
   "version": "3.11.5"
  }
 },
 "nbformat": 4,
 "nbformat_minor": 5
}
